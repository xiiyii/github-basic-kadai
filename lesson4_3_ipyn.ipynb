{
  "nbformat": 4,
  "nbformat_minor": 0,
  "metadata": {
    "colab": {
      "provenance": [],
      "authorship_tag": "ABX9TyNEIZwEqS2NtwtQTWd9EgOC",
      "include_colab_link": true
    },
    "kernelspec": {
      "name": "python3",
      "display_name": "Python 3"
    },
    "language_info": {
      "name": "python"
    }
  },
  "cells": [
    {
      "cell_type": "markdown",
      "metadata": {
        "id": "view-in-github",
        "colab_type": "text"
      },
      "source": [
        "<a href=\"https://colab.research.google.com/github/xiiyii/github-basic-kadai/blob/main/lesson4_3_ipyn.ipynb\" target=\"_parent\"><img src=\"https://colab.research.google.com/assets/colab-badge.svg\" alt=\"Open In Colab\"/></a>"
      ]
    },
    {
      "cell_type": "markdown",
      "source": [],
      "metadata": {
        "id": "uFSKC8eMR0jt"
      }
    },
    {
      "cell_type": "code",
      "source": [
        "array = [\"月曜日は晴れです\",\"火曜日は雨です\",\"水曜日は晴れです\",\"木曜日は晴れです\",\"金曜日は曇りです\",\"土曜日は曇りのち雨です\",\"日曜日は豪雨です\"]\n",
        "for i in range(0,6):\n",
        "  print(array[i])\n",
        "  i = i+1\n",
        "\n",
        "dictionary = {\"MON\":\"晴れ\",\"TUE\":\"雨\",\"WED\":\"晴れ\",\"THU\":\"晴れ\",\"FRI\":\"曇り\",\"SAT\":\"曇りのち雨\",\"SUN\":\"豪雨\"}\n",
        "print(dictionary[\"MON\"])\n",
        "print(dictionary[\"TUE\"])\n",
        "print(dictionary[\"WED\"])\n",
        "print(dictionary[\"THU\"])\n",
        "print(dictionary[\"FRI\"])\n",
        "print(dictionary[\"SAT\"])\n",
        "print(dictionary[\"SUN\"])\n"
      ],
      "metadata": {
        "colab": {
          "base_uri": "https://localhost:8080/"
        },
        "id": "ux0NMOpVKzH1",
        "outputId": "39323d84-818f-4a26-c2d5-65f47497c642"
      },
      "execution_count": 13,
      "outputs": [
        {
          "output_type": "stream",
          "name": "stdout",
          "text": [
            "月曜日は晴れです\n",
            "火曜日は雨です\n",
            "水曜日は晴れです\n",
            "木曜日は晴れです\n",
            "金曜日は曇りです\n",
            "土曜日は曇りのち雨です\n",
            "晴れ\n",
            "雨\n",
            "晴れ\n",
            "晴れ\n",
            "曇り\n",
            "曇りのち雨\n",
            "豪雨\n"
          ]
        }
      ]
    }
  ]
}