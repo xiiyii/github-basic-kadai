{
  "nbformat": 4,
  "nbformat_minor": 0,
  "metadata": {
    "colab": {
      "provenance": [],
      "authorship_tag": "ABX9TyPHg9SQYMRyPIs71xNNnhPC",
      "include_colab_link": true
    },
    "kernelspec": {
      "name": "python3",
      "display_name": "Python 3"
    },
    "language_info": {
      "name": "python"
    }
  },
  "cells": [
    {
      "cell_type": "markdown",
      "metadata": {
        "id": "view-in-github",
        "colab_type": "text"
      },
      "source": [
        "<a href=\"https://colab.research.google.com/github/xiiyii/github-basic-kadai/blob/main/lesson4_1.ipynb\" target=\"_parent\"><img src=\"https://colab.research.google.com/assets/colab-badge.svg\" alt=\"Open In Colab\"/></a>"
      ]
    },
    {
      "cell_type": "code",
      "source": [
        "def trapezoid_area(top_base, bottom_base, height):\n",
        "    return (top_base + bottom_base) * height / 2\n",
        "\n",
        "# 例: 上底=5, 下底=10, 高さ=7 の場合\n",
        "top_base = 5\n",
        "bottom_base = 10\n",
        "height = 7\n",
        "\n",
        "area = trapezoid_area(top_base, bottom_base, height)\n",
        "print(f\"上辺:{top_base}cm\")\n",
        "print(f\"下辺:{bottom_base}cm\")\n",
        "print(f\"高さ:{height}cm\")\n",
        "print(f\"\\n{area}\")"
      ],
      "metadata": {
        "colab": {
          "base_uri": "https://localhost:8080/"
        },
        "id": "KM1zuZQKJLv4",
        "outputId": "1aea3e2a-6b09-4b99-e6a3-df4d347b335d"
      },
      "execution_count": 8,
      "outputs": [
        {
          "output_type": "stream",
          "name": "stdout",
          "text": [
            "上辺:5cm\n",
            "下辺:10cm\n",
            "高さ:7cm\n",
            "\n",
            "52.5\n"
          ]
        }
      ]
    },
    {
      "cell_type": "code",
      "source": [],
      "metadata": {
        "id": "rqDirgjISa_S"
      },
      "execution_count": null,
      "outputs": []
    }
  ]
}