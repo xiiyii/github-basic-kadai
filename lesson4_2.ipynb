{
  "nbformat": 4,
  "nbformat_minor": 0,
  "metadata": {
    "colab": {
      "provenance": [],
      "authorship_tag": "ABX9TyNtwqdx3ABOsootAOk31t3n",
      "include_colab_link": true
    },
    "kernelspec": {
      "name": "python3",
      "display_name": "Python 3"
    },
    "language_info": {
      "name": "python"
    }
  },
  "cells": [
    {
      "cell_type": "markdown",
      "metadata": {
        "id": "view-in-github",
        "colab_type": "text"
      },
      "source": [
        "<a href=\"https://colab.research.google.com/github/xiiyii/github-basic-kadai/blob/main/lesson4_2.ipynb\" target=\"_parent\"><img src=\"https://colab.research.google.com/assets/colab-badge.svg\" alt=\"Open In Colab\"/></a>"
      ]
    },
    {
      "cell_type": "code",
      "source": [
        "def calculate_tax_included(price, tax_rate):\n",
        "    return price * (1 + tax_rate)\n",
        "\n",
        "price_excluding_tax = input()  # 税抜価格\n",
        "input_tax_rate = input()\n",
        "price_including_tax = int(calculate_tax_included(int(price_excluding_tax),float(input_tax_rate)))\n",
        "\n",
        "print(f\"税込価格: {price_including_tax}円\")"
      ],
      "metadata": {
        "colab": {
          "base_uri": "https://localhost:8080/"
        },
        "id": "ux0NMOpVKzH1",
        "outputId": "26a76628-03f8-4564-cd51-3648a2f4ab15"
      },
      "execution_count": 16,
      "outputs": [
        {
          "output_type": "stream",
          "name": "stdout",
          "text": [
            "1000\n",
            "0.1\n",
            "税込価格: 1100円\n"
          ]
        }
      ]
    }
  ]
}